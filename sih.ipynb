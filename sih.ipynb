{
  "cells": [
    {
      "cell_type": "markdown",
      "metadata": {
        "id": "view-in-github",
        "colab_type": "text"
      },
      "source": [
        "<a href=\"https://colab.research.google.com/github/knishkagithub/sih/blob/main/sih.ipynb\" target=\"_parent\"><img src=\"https://colab.research.google.com/assets/colab-badge.svg\" alt=\"Open In Colab\"/></a>"
      ]
    },
    {
      "cell_type": "code",
      "execution_count": null,
      "id": "42d8d83c-6902-4d1e-a910-7b68c2b545cb",
      "metadata": {
        "id": "42d8d83c-6902-4d1e-a910-7b68c2b545cb"
      },
      "outputs": [],
      "source": [
        "import numpy as np\n",
        "from sklearn.feature_extraction.text import CountVectorizer\n",
        "from sklearn.metrics.pairwise import cosine_similarity\n",
        "import nltk\n",
        "from nltk.corpus import stopwords\n",
        "from nltk.stem import WordNetLemmatizer"
      ]
    },
    {
      "cell_type": "code",
      "execution_count": null,
      "id": "2033422c-8d4c-448d-8e3c-a6e721f6cd10",
      "metadata": {
        "colab": {
          "base_uri": "https://localhost:8080/"
        },
        "id": "2033422c-8d4c-448d-8e3c-a6e721f6cd10",
        "outputId": "6deeaa46-523a-4d9b-802e-a03e9ea87791"
      },
      "outputs": [
        {
          "output_type": "stream",
          "name": "stderr",
          "text": [
            "[nltk_data] Downloading package stopwords to /root/nltk_data...\n",
            "[nltk_data]   Unzipping corpora/stopwords.zip.\n",
            "[nltk_data] Downloading package wordnet to /root/nltk_data...\n"
          ]
        },
        {
          "output_type": "execute_result",
          "data": {
            "text/plain": [
              "True"
            ]
          },
          "metadata": {},
          "execution_count": 2
        }
      ],
      "source": [
        "nltk.download('stopwords')\n",
        "nltk.download('wordnet')"
      ]
    },
    {
      "cell_type": "code",
      "execution_count": null,
      "id": "cd437167-9e44-444b-8f93-37e0fe909bdf",
      "metadata": {
        "colab": {
          "base_uri": "https://localhost:8080/",
          "height": 384
        },
        "id": "cd437167-9e44-444b-8f93-37e0fe909bdf",
        "outputId": "9c91c1bc-ac1f-40be-c370-9bac5fd331a4"
      },
      "outputs": [
        {
          "output_type": "error",
          "ename": "ModuleNotFoundError",
          "evalue": "No module named 'pdfminer'",
          "traceback": [
            "\u001b[0;31m---------------------------------------------------------------------------\u001b[0m",
            "\u001b[0;31mModuleNotFoundError\u001b[0m                       Traceback (most recent call last)",
            "\u001b[0;32m<ipython-input-8-30a6cf35aa18>\u001b[0m in \u001b[0;36m<cell line: 2>\u001b[0;34m()\u001b[0m\n\u001b[1;32m      1\u001b[0m \u001b[0;32mimport\u001b[0m \u001b[0mre\u001b[0m\u001b[0;34m\u001b[0m\u001b[0;34m\u001b[0m\u001b[0m\n\u001b[0;32m----> 2\u001b[0;31m \u001b[0;32mfrom\u001b[0m \u001b[0mpdfminer\u001b[0m\u001b[0;34m.\u001b[0m\u001b[0mhigh_level\u001b[0m \u001b[0;32mimport\u001b[0m \u001b[0mextract_text\u001b[0m\u001b[0;34m\u001b[0m\u001b[0;34m\u001b[0m\u001b[0m\n\u001b[0m\u001b[1;32m      3\u001b[0m \u001b[0;34m\u001b[0m\u001b[0m\n\u001b[1;32m      4\u001b[0m \u001b[0;32mdef\u001b[0m \u001b[0mextract_text_from_pdf\u001b[0m\u001b[0;34m(\u001b[0m\u001b[0mpdf_path\u001b[0m\u001b[0;34m)\u001b[0m\u001b[0;34m:\u001b[0m\u001b[0;34m\u001b[0m\u001b[0;34m\u001b[0m\u001b[0m\n\u001b[1;32m      5\u001b[0m     \u001b[0;32mreturn\u001b[0m \u001b[0mextract_text\u001b[0m\u001b[0;34m(\u001b[0m\u001b[0mpdf_path\u001b[0m\u001b[0;34m)\u001b[0m\u001b[0;34m\u001b[0m\u001b[0;34m\u001b[0m\u001b[0m\n",
            "\u001b[0;31mModuleNotFoundError\u001b[0m: No module named 'pdfminer'",
            "",
            "\u001b[0;31m---------------------------------------------------------------------------\u001b[0;32m\nNOTE: If your import is failing due to a missing package, you can\nmanually install dependencies using either !pip or !apt.\n\nTo view examples of installing some common dependencies, click the\n\"Open Examples\" button below.\n\u001b[0;31m---------------------------------------------------------------------------\u001b[0m\n"
          ],
          "errorDetails": {
            "actions": [
              {
                "action": "open_url",
                "actionText": "Open Examples",
                "url": "/notebooks/snippets/importing_libraries.ipynb"
              }
            ]
          }
        }
      ],
      "source": [
        "import re\n",
        "from pdfminer.high_level import extract_text\n",
        "\n",
        "def extract_text_from_pdf(pdf_path):\n",
        "    return extract_text(pdf_path)\n",
        "\n",
        "resume_path =\"resume_1.pdf\"\n",
        "text = extract_text_from_pdf(resume_path)\n",
        "resume_path=\"resume_2.pdf\"\n",
        "text2 = extract_text_from_pdf(resume_path)\n",
        "\n"
      ]
    },
    {
      "cell_type": "code",
      "execution_count": null,
      "id": "cc33cd45-1e37-4b5d-8d57-cf3ef902e716",
      "metadata": {
        "id": "cc33cd45-1e37-4b5d-8d57-cf3ef902e716"
      },
      "outputs": [],
      "source": [
        "text2"
      ]
    },
    {
      "cell_type": "code",
      "execution_count": null,
      "id": "94b73044-2556-4c97-90c0-0085d29cd4b7",
      "metadata": {
        "id": "94b73044-2556-4c97-90c0-0085d29cd4b7"
      },
      "outputs": [],
      "source": [
        "def clean_resume(text):\n",
        "    clean4=[]\n",
        "    review = re.sub(\n",
        "        '(@[A-Za-z0-9]+)|([^0-9A-Za-z \\t])|(\\w+:\\/\\/\\S+)|^rt|http.+?\"',\n",
        "        \" \",\n",
        "        text,\n",
        "        )\n",
        "    review = review.lower()\n",
        "    review = review.split()\n",
        "    lm = WordNetLemmatizer()\n",
        "    review = [\n",
        "        lm.lemmatize(word)\n",
        "        for word in review\n",
        "        if not word in set(stopwords.words(\"english\"))\n",
        "        ]\n",
        "    review = \" \".join(review)\n",
        "    clean4.append(review)\n",
        "    return clean4"
      ]
    },
    {
      "cell_type": "code",
      "execution_count": null,
      "id": "4c69f1bd-ce56-4366-9aec-bbf7acec33aa",
      "metadata": {
        "id": "4c69f1bd-ce56-4366-9aec-bbf7acec33aa"
      },
      "outputs": [],
      "source": [
        "clean_res=clean_resume(text)"
      ]
    },
    {
      "cell_type": "code",
      "execution_count": null,
      "id": "80f258ed-fa4b-4648-b226-217107c2e8f7",
      "metadata": {
        "id": "80f258ed-fa4b-4648-b226-217107c2e8f7"
      },
      "outputs": [],
      "source": [
        "clean_res2=clean_resume(text2)"
      ]
    },
    {
      "cell_type": "code",
      "execution_count": null,
      "id": "3112ec86-26d4-4acb-8d89-df12771bfd3c",
      "metadata": {
        "id": "3112ec86-26d4-4acb-8d89-df12771bfd3c"
      },
      "outputs": [],
      "source": [
        "clean_res=' '.join(clean_res)\n",
        "clean_res2=' '.join(clean_res2)"
      ]
    },
    {
      "cell_type": "code",
      "execution_count": null,
      "id": "f86f4a14-8f59-4af3-a526-838a0d77edff",
      "metadata": {
        "id": "f86f4a14-8f59-4af3-a526-838a0d77edff"
      },
      "outputs": [],
      "source": [
        "import re\n",
        "\n",
        "def extract_skills_from_resume(text, skills_list):\n",
        "    skills = []\n",
        "\n",
        "    for skill in skills_list:\n",
        "        pattern = r\"\\b{}\\b\".format(re.escape(skill))\n",
        "        match = re.search(pattern, text, re.IGNORECASE)\n",
        "        if match:\n",
        "            skills.append(skill)\n",
        "\n",
        "    return skills\n",
        "\n",
        "\n",
        "# List of predefined skills\n",
        "skills_list = [\n",
        "    'Python', 'Data Analysis', 'Machine Learning', 'Communication', 'Project Management', 'Deep Learning', 'SQL', 'Tableau',\n",
        "    'Java', 'C++', 'JavaScript', 'HTML', 'CSS', 'React', 'Angular', 'Node.js', 'MongoDB', 'Express.js', 'Git',\n",
        "    'Research', 'Statistics', 'Quantitative Analysis', 'Qualitative Analysis', 'SPSS', 'R', 'Data Visualization', 'Matplotlib',\n",
        "    'Seaborn', 'Plotly', 'Pandas', 'Numpy', 'Scikit-learn', 'TensorFlow', 'Keras', 'PyTorch', 'NLTK', 'Text Mining',\n",
        "    'Natural Language Processing', 'Computer Vision', 'Image Processing', 'OCR', 'Speech Recognition', 'Recommendation Systems',\n",
        "    'Collaborative Filtering', 'Content-Based Filtering', 'Reinforcement Learning', 'Neural Networks', 'Convolutional Neural Networks',\n",
        "    'Recurrent Neural Networks', 'Generative Adversarial Networks', 'XGBoost', 'Random Forest', 'Decision Trees', 'Support Vector Machines',\n",
        "    'Linear Regression', 'Logistic Regression', 'K-Means Clustering', 'Hierarchical Clustering', 'DBSCAN', 'Association Rule Learning',\n",
        "    'Apache Hadoop', 'Apache Spark', 'MapReduce', 'Hive', 'HBase', 'Apache Kafka', 'Data Warehousing', 'ETL', 'Big Data Analytics',\n",
        "    'Cloud Computing', 'Amazon Web Services (AWS)', 'Microsoft Azure', 'Google Cloud Platform (GCP)', 'Docker', 'Kubernetes', 'Linux',\n",
        "    'Shell Scripting', 'Cybersecurity', 'Network Security', 'Penetration Testing', 'Firewalls', 'Encryption', 'Malware Analysis',\n",
        "    'Digital Forensics', 'CI/CD', 'DevOps', 'Agile Methodology', 'Scrum', 'Kanban', 'Continuous Integration', 'Continuous Deployment',\n",
        "    'Software Development', 'Web Development', 'Mobile Development', 'Backend Development', 'Frontend Development', 'Full-Stack Development',\n",
        "    'UI/UX Design', 'Responsive Design', 'Wireframing', 'Prototyping', 'User Testing', 'Adobe Creative Suite', 'Photoshop', 'Illustrator',\n",
        "    'InDesign', 'Figma', 'Sketch', 'Zeplin', 'InVision', 'Product Management', 'Market Research', 'Customer Development', 'Lean Startup',\n",
        "    'Business Development', 'Sales', 'Marketing', 'Content Marketing', 'Social Media Marketing', 'Email Marketing', 'SEO', 'SEM', 'PPC',\n",
        "    'Google Analytics', 'Facebook Ads', 'LinkedIn Ads', 'Lead Generation', 'Customer Relationship Management (CRM)', 'Salesforce',\n",
        "    'HubSpot', 'Zendesk', 'Intercom', 'Customer Support', 'Technical Support', 'Troubleshooting', 'Ticketing Systems', 'ServiceNow',\n",
        "    'ITIL', 'Quality Assurance', 'Manual Testing', 'Automated Testing', 'Selenium', 'JUnit', 'Load Testing', 'Performance Testing',\n",
        "    'Regression Testing', 'Black Box Testing', 'White Box Testing', 'API Testing', 'Mobile Testing', 'Usability Testing', 'Accessibility Testing',\n",
        "    'Cross-Browser Testing', 'Agile Testing', 'User Acceptance Testing', 'Software Documentation', 'Technical Writing', 'Copywriting',\n",
        "    'Editing', 'Proofreading', 'Content Management Systems (CMS)', 'WordPress', 'Joomla', 'Drupal', 'Magento', 'Shopify', 'E-commerce',\n",
        "    'Payment Gateways', 'Inventory Management', 'Supply Chain Management', 'Logistics', 'Procurement', 'ERP Systems', 'SAP', 'Oracle',\n",
        "    'Microsoft Dynamics', 'Tableau', 'Power BI', 'QlikView', 'Looker', 'Data Warehousing', 'ETL', 'Data Engineering', 'Data Governance',\n",
        "    'Data Quality', 'Master Data Management', 'Predictive Analytics', 'Prescriptive Analytics', 'Descriptive Analytics', 'Business Intelligence',\n",
        "    'Dashboarding', 'Reporting', 'Data Mining', 'Web Scraping', 'API Integration', 'RESTful APIs', 'GraphQL', 'SOAP', 'Microservices',\n",
        "    'Serverless Architecture', 'Lambda Functions', 'Event-Driven Architecture', 'Message Queues', 'GraphQL', 'Socket.io', 'WebSockets',\n",
        "    'Ruby', 'Ruby on Rails', 'PHP', 'Symfony', 'Laravel', 'CakePHP', 'Zend Framework', 'ASP.NET', 'C#', 'VB.NET', 'ASP.NET MVC', 'Entity Framework',\n",
        "    'Spring', 'Hibernate', 'Struts', 'Kotlin', 'Swift', 'Objective-C', 'iOS Development', 'Android Development', 'Flutter', 'React Native', 'Ionic',\n",
        "    'Mobile UI/UX Design', 'Material Design', 'SwiftUI', 'RxJava', 'RxSwift', 'Django', 'Flask', 'FastAPI', 'Falcon', 'Tornado', 'WebSockets',\n",
        "    'GraphQL', 'RESTful Web Services', 'SOAP', 'Microservices Architecture', 'Serverless Computing', 'AWS Lambda', 'Google Cloud Functions',\n",
        "    'Azure Functions', 'Server Administration', 'System Administration', 'Network Administration', 'Database Administration', 'MySQL', 'PostgreSQL',\n",
        "    'SQLite', 'Microsoft SQL Server', 'Oracle Database', 'NoSQL', 'MongoDB', 'Cassandra', 'Redis', 'Elasticsearch', 'Firebase', 'Google Analytics',\n",
        "    'Google Tag Manager', 'Adobe Analytics', 'Marketing Automation', 'Customer Data Platforms', 'Segment', 'Salesforce Marketing Cloud', 'HubSpot CRM',\n",
        "    'Zapier', 'IFTTT', 'Workflow Automation', 'Robotic Process Automation (RPA)', 'UI Automation', 'Natural Language Generation (NLG)',\n",
        "    'Virtual Reality (VR)', 'Augmented Reality (AR)', 'Mixed Reality (MR)', 'Unity', 'Unreal Engine', '3D Modeling', 'Animation', 'Motion Graphics',\n",
        "    'Game Design', 'Game Development', 'Level Design', 'Unity3D', 'Unreal Engine 4', 'Blender', 'Maya', 'Adobe After Effects', 'Adobe Premiere Pro',\n",
        "    'Final Cut Pro', 'Video Editing', 'Audio Editing', 'Sound Design', 'Music Production', 'Digital Marketing', 'Content Strategy', 'Conversion Rate Optimization (CRO)',\n",
        "    'A/B Testing', 'Customer Experience (CX)', 'User Experience (UX)', 'User Interface (UI)', 'Persona Development', 'User Journey Mapping', 'Information Architecture (IA)',\n",
        "    'Wireframing', 'Prototyping', 'Usability Testing', 'Accessibility Compliance', 'Internationalization (I18n)', 'Localization (L10n)', 'Voice User Interface (VUI)',\n",
        "    'Chatbots', 'Natural Language Understanding (NLU)', 'Speech Synthesis', 'Emotion Detection', 'Sentiment Analysis', 'Image Recognition', 'Object Detection',\n",
        "    'Facial Recognition', 'Gesture Recognition', 'Document Recognition', 'Fraud Detection', 'Cyber Threat Intelligence', 'Security Information and Event Management (SIEM)',\n",
        "    'Vulnerability Assessment', 'Incident Response', 'Forensic Analysis', 'Security Operations Center (SOC)', 'Identity and Access Management (IAM)', 'Single Sign-On (SSO)',\n",
        "    'Multi-Factor Authentication (MFA)', 'Blockchain', 'Cryptocurrency', 'Decentralized Finance (DeFi)', 'Smart Contracts', 'Web3', 'Non-Fungible Tokens (NFTs)',\n",
        "    'Biology', 'Chemistry', 'Physics', 'Engineering', 'Mathematics', 'Environmental Science', 'Materials Science', 'Astronomy',\n",
        "    'Accounting', 'Finance', 'Economics', 'Marketing', 'Management', 'Entrepreneurship', 'Logistics and Supply Chain',\n",
        "    'Visual Arts', 'Performing Arts', 'Literature', 'History', 'Philosophy', 'Languages', 'Cultural Studies',\n",
        "    'Medical Sciences', 'Public Health', 'Nursing','Teaching', 'Training','Accounting', 'Financial Accounting', 'Managerial Accounting', 'Auditing', 'Taxation', 'Forensic Accounting',\n",
        "    'Investment Banking', 'Corporate Finance', 'Financial Analysis', 'Risk Management', 'Portfolio Management',\n",
        "    'Microeconomics', 'Macroeconomics', 'Econometrics', 'International Economics', 'Development Economics',\n",
        "    'Market Research', 'Brand Management', 'Product Management', 'Digital Marketing', 'Affiliate Marketing',\n",
        "    'Sales Strategy', 'B2B Sales', 'B2C Sales', 'Sales Operations', 'Lead Generation',\n",
        "    'Strategic Partnerships', 'Business Strategy', 'Market Expansion', 'Competitive Analysis',\n",
        "    'Operations Management', 'Human Resource Management', 'Strategic Management', 'Project Management',\n",
        "    'Startup Management', 'Business Planning', 'Innovation Management', 'Venture Capital',\n",
        "    'Supply Chain Optimization', 'Inventory Management', 'Logistics Planning', 'Procurement',\n",
        "    'Merchandising', 'Store Operations', 'Customer Service', 'Retail Analytics',\n",
        "    'Online Store Management', 'Product Listings', 'Customer Experience Management', 'Conversion Rate Optimization',\n",
        "    'Wealth Management', 'Financial Planning', 'Insurance', 'Financial Advising',\n",
        "    'Stock Market', 'Bonds', 'Real Estate Investment', 'Cryptocurrency Trading',\n",
        "    'Regulatory Reporting', 'Compliance Management', 'Internal Controls', 'Risk Assessment',\n",
        "    'Painting', 'Drawing', 'Sculpture', 'Printmaking', 'Digital Art',\n",
        "    'Acting', 'Dance', 'Music Performance', 'Theatre Production', 'Stage Management',\n",
        "    'Creative Writing', 'Poetry', 'Literary Analysis', 'Journalism', 'Editing',\n",
        "    'Graphic Design', 'Industrial Design', 'Fashion Design', 'Interior Design', 'UX/UI Design',\n",
        "    'Ethnography', 'Cross-Cultural Communication', 'Museum Studies', 'Art History',\n",
        "    'Film Production', 'Screenwriting', 'Cinematography', 'Film Editing', 'Media Studies',\n",
        "    'Music Theory', 'Composition', 'Music Production', 'Sound Engineering', 'Music History',\n",
        "    'Portrait Photography', 'Landscape Photography', 'Photo Editing', 'Commercial Photography',\n",
        "    'Pottery', 'Textiles', 'Jewelry Making', 'Woodworking', 'Metalworking',\n",
        "    'Urban Planning', 'Landscape Architecture', 'Architectural Design', 'Building Information Modeling (BIM)',\n",
        "    'Art Instruction', 'Curriculum Development', 'Art Therapy', 'Art Appreciation',\n",
        "    'Improvisation', 'Performance Art Installations', 'Experimental Theatre',\n",
        "    'Preservation', 'Restoration', 'Historical Research', 'Heritage Management',\n",
        "    'Molecular Biology', 'Genetics', 'Biotechnology', 'Biochemistry', 'Microbiology', 'Immunology', 'Neuroscience', 'Pharmacology',\n",
        "    'Biostatistics', 'Bioinformatics', 'Biomedical Engineering', 'Genomics', 'Proteomics', 'Cell Biology', 'Ecology', 'Environmental Biology',\n",
        "    'Marine Biology', 'Botany', 'Zoology', 'Astrophysics', 'Quantum Mechanics', 'Thermodynamics', 'Fluid Dynamics', 'Geophysics', 'Geochemistry',\n",
        "    'Mineralogy', 'Paleontology', 'Petrology', 'Seismology', 'Climatology', 'Meteorology', 'Oceanography', 'Geospatial Analysis', 'Remote Sensing',\n",
        "    'Epidemiology', 'Public Health', 'Healthcare Management', 'Clinical Trials', 'Health Informatics', 'Veterinary Science', 'Nutritional Science',\n",
        "    'Sports Science', 'Exercise Physiology', 'Biomechanics', 'Kinesiology', 'Radiology', 'Surgery', 'Dentistry', 'Pharmacy', 'Optometry',\n",
        "    'Agriculture', 'Horticulture', 'Soil Science', 'Forestry', 'Aquaculture', 'Fisheries Science', 'Animal Husbandry', 'Poultry Science',\n",
        "    'Food Science', 'Food Technology', 'Dairy Technology', 'Post-Harvest Technology', 'Sustainable Agriculture', 'Organic Farming', 'Agroforestry',\n",
        "    'Banking', 'Corporate Banking', 'Investment Management', 'Wealth Management', 'Retail Banking', 'Credit Analysis', 'Mortgage Lending',\n",
        "    'Risk Assessment', 'Compliance', 'Financial Reporting', 'Tax Compliance', 'Cost Accounting', 'Management Accounting', 'Payroll Management',\n",
        "    'Supply Chain Finance', 'Mergers and Acquisitions', 'Private Equity', 'Venture Capital', 'Capital Markets', 'Foreign Exchange Trading',\n",
        "    'Derivatives Trading', 'Commodities Trading', 'Risk Hedging', 'International Trade', 'Export-Import Compliance', 'Trade Finance', 'Supply Chain Analytics',\n",
        "    'E-commerce Strategy', 'Digital Transformation', 'Blockchain for Business', 'FinTech', 'InsurTech', 'RegTech', 'Crowdfunding', 'Peer-to-Peer Lending',\n",
        "    'Cryptocurrency Regulations', 'Financial Crime Prevention', 'Anti-Money Laundering', 'KYC Compliance', 'Corporate Governance', 'Investor Relations',\n",
        "    'Public Relations', 'Crisis Management', 'Change Management', 'Business Continuity Planning', 'Financial Modeling', 'Behavioral Finance',\n",
        "    'Corporate Social Responsibility', 'Sustainable Finance', 'Green Finance', 'Social Entrepreneurship', 'Impact Investing', 'Philanthropy',\n",
        "    'Microfinance', 'Fair Trade', 'Economic Development', 'Globalization', 'Urban Economics', 'Behavioral Economics', 'Game Theory',\n",
        "    'Art Curation', 'Gallery Management', 'Art Restoration', 'Art Conservation', 'Cultural Heritage Preservation', 'Museum Curation',\n",
        "    'Exhibition Design', 'Art Auctioneering', 'Art Valuation', 'Art History Research', 'Visual Storytelling', 'Concept Art', 'Art Direction',\n",
        "    'Art Criticism', 'Art Teaching', 'Art Therapy', 'Expressive Arts Therapy', 'Digital Illustration', 'Fashion Illustration', 'Textile Design',\n",
        "    'Surface Pattern Design', 'Fiber Arts', 'Ceramics', 'Glass Blowing', 'Metal Sculpting', 'Wood Carving', 'Papercraft', 'Calligraphy',\n",
        "    'Mural Painting', 'Street Art', 'Tattoo Design', 'Body Art', 'Film Direction', 'Film Production', 'Documentary Filmmaking', 'Cinematography',\n",
        "    'Sound Design', 'Lighting Design', 'Set Design', 'Costume Design', 'Theatrical Makeup', 'Performance Directing', 'Voice Acting', 'Puppetry',\n",
        "    'Stage Combat', 'Dance Choreography', 'Ballet', 'Contemporary Dance', 'Hip Hop Dance', 'Salsa', 'Tango', 'Jazz Dance', 'Tap Dance',\n",
        "    'Dance Teaching', 'Music Composition', 'Orchestration', 'Conducting', 'Instrumental Performance', 'Vocal Performance', 'Music Arranging',\n",
        "    'Music Producing', 'Sound Engineering', 'Live Sound Mixing', 'Music Journalism', 'Musicology', 'Ethnomusicology', 'Opera Performance',\n",
        "    'World Music', 'Music Therapy', 'Choral Conducting', 'Guitar', 'Piano', 'Violin', 'Drums', 'Saxophone', 'Flute', 'Trumpet', 'Bass Guitar',\n",
        "    'Singing', 'Songwriting', 'Lyric Writing', 'Music Theory Teaching', 'Album Production', 'Music Video Production', 'DJing', 'Turntablism',\n",
        "    'VJing', 'Music Licensing', 'Music Copyright', 'Music Publishing', 'Record Label Management', 'Music Event Promotion', 'Tour Management',\n",
        "    'Band Management', 'Music PR', 'Music Marketing', 'Fan Engagement', 'Street Team Coordination', 'Film Scoring', 'Film Editing',\n",
        "    'Music Supervision', 'Scriptwriting', 'Screenplay Writing', 'Film Producing', 'Television Writing', 'Game Writing', 'Graphic Novel Writing',\n",
        "    'Comic Book Writing', 'Interactive Storytelling', 'Transmedia Storytelling', 'Blogging', 'Content Creation', 'Podcasting', 'Vlogging',\n",
        "    'Creative Entrepreneurship', 'Creative Project Management', 'Art Law', 'Copyright Law', 'Intellectual Property Law', 'Art Business',\n",
        "    'Cultural Policy', 'Cultural Management', 'Cultural Programming', 'Event Planning', 'Event Production', 'Festival Management', 'Art Education',\n",
        "    'Cultural Journalism', 'Art Photography', 'Documentary Photography', 'Fashion Photography', 'Wildlife Photography', 'Sports Photography',\n",
        "    'Architectural Photography', 'Fine Art Photography', 'Portrait Photography', 'Commercial Photography', 'Editorial Photography',\n",
        "    'Photojournalism', 'Wedding Photography', 'Food Photography', 'Travel Photography', 'Astrophotography', 'Underwater Photography',\n",
        "    'Time-Lapse Photography', 'Stop Motion Animation', '2D Animation', '3D Animation', 'Motion Capture', 'Character Animation',\n",
        "    'Storyboard Art', 'Visual Effects', 'Compositing', 'Rotoscoping', 'Matte Painting', 'Pre-Visualization', 'Game Art', 'Game Programming',\n",
        "    'Game Mechanics', 'Game Engines', 'Level Design', 'Game Monetization', 'Interactive Media Design', 'Augmented Reality Design',\n",
        "    'Virtual Reality Design', 'Mixed Reality Design', 'Game User Interface Design', 'Game User Experience Design', 'Game Sound Design',\n",
        "    'Game Music Composition', 'Game Narratives', 'Game Production', 'Game Quality Assurance', 'Game Community Management',\n",
        "    'Theater Acting', 'Voice Over Acting', 'Radio Hosting', 'Television Hosting', 'Stand-Up Comedy', 'Sketch Comedy', 'Improv Comedy',\n",
        "    'Clowning', 'Mime', 'Puppeteering', 'Stunt Performing', 'Stage Directing', 'Script Analysis', 'Dramaturgy', 'Stage Management',\n",
        "    'Lighting Operation', 'Sound Operation', 'Props Management', 'Wardrobe Supervision', 'Stage Carpentry', 'Set Painting', 'Costume Construction',\n",
        "    'Theatrical Wig Making', 'Theatrical Prosthetics', 'Mask Making', 'Puppetry Arts', 'Voice Acting for Animation', 'Dubbing',\n",
        "    'Subtitling', 'Translation for Media', 'Audio Description', 'Artistic Directing', 'Festival Programming', 'Curatorial Practices',\n",
        "    'Public Art', 'Site-Specific Art', 'Performance Art', 'Interactive Art', 'Installation Art', 'New Media Art', 'Digital Sculpture',\n",
        "    'Bio Art', 'Art and Technology', 'Art and Ecology', 'Art and Activism', 'Art Therapy Research', 'Expressive Arts Research',\n",
        "    'Artistic Research', 'Socially Engaged Art', 'Art and Social Justice', 'Art and Identity', 'Indigenous Art', 'Community Art',\n",
        "    'Collaborative Art Practices', 'Participatory Art', 'Relational Art', 'Art Pedagogy', 'Museum Education', 'Gallery Education',\n",
        "    'Art Criticism Writing', 'Art Publishing', 'Art Journals', 'Curatorial Writing', 'Exhibition Catalog Writing', 'Art Book Publishing',\n",
        "    'Art Zines', 'Art Magazines', 'Cultural Criticism', 'Cultural Theory', 'Postcolonial Theory', 'Queer Theory', 'Feminist Theory',\n",
        "    'Critical Race Theory', 'Disability Studies', 'Intersectionality', 'Cultural Memory', 'Oral History', 'Archival Research',\n",
        "    'Documentary Research', 'Cultural Documentation', 'Ethnographic Film', 'Cultural Anthropology', 'Sociology of Art', 'Visual Sociology',\n",
        "    'Sociology of Culture', 'Sociology of Media', 'Cultural Studies Research', 'Art and Anthropology', 'Art and Sociology',\n",
        "    'Art and Psychology', 'Art and Neuroscience', 'Art and Wellbeing', 'Art and Health', 'Arts in Healthcare', 'Healing Arts', 'Art in Prisons',\n",
        "    'Art in Schools', 'Art in Communities', 'Art in Urban Spaces', 'Art in Rural Spaces', 'Art and the Environment', 'Art and Climate Change',\n",
        "    'Sustainable Art', 'Eco Art', 'Green Art', 'Slow Art', 'Resilient Art', 'Art and Disaster Recovery', 'Art and Human Rights', 'Art and Migration',\n",
        "    'Art and Refugees', 'Art and Asylum Seekers', 'Art and Social Media', 'Art and Digital Culture', 'Art and the Internet', 'Net Art',\n",
        "    'Post-Internet Art', 'Digital Curating', 'Online Exhibitions', 'Virtual Exhibitions', 'Art and Artificial Intelligence',\n",
        "    'Art and Machine Learning', 'Art and Robotics', 'Art and Augmented Reality', 'Art and Virtual Reality', 'Art and 3D Printing',\n",
        "    'Art and Wearable Technology', 'Art and Smart Materials', 'Art and Nanotechnology', 'Art and Biotechnology', 'Art and Synthetic Biology',\n",
        "    'Art and Neuroscience', 'Art and Cognition', 'Art and Perception', 'Art and Emotion', 'Art and Aesthetics', 'Art and the Senses',\n",
        "    'Art and the Body', 'Art and Memory', 'Art and Consciousness', 'Art and the Unconscious', 'Art and Dreams', 'Art and the Psyche',\n",
        "    'Art and the Subconscious', 'Art and Archetypes', 'Art and Mythology', 'Art and Ritual', 'Art and Spirituality', 'Art and Religion',\n",
        "    'Art and Mysticism', 'Art and the Sacred', 'Art and the Profane', 'Art and the Everyday', 'Art and Popular Culture', 'Art and Subcultures',\n",
        "    'Art and Countercultures', 'Art and Resistance', 'Art and Revolution', 'Art and Utopia', 'Art and Dystopia', 'Art and Apocalypse',\n",
        "    'Art and Posthumanism', 'Art and Transhumanism', 'Art and Cyborgs', 'Art and the Future', 'Art and Time', 'Art and Space',\n",
        "    'Art and the Universe', 'Art and Quantum Physics', 'Art and String Theory', 'Art and Relativity', 'Art and Chaos Theory',\n",
        "    'Art and Complexity Theory', 'Art and Systems Theory', 'Art and Cybernetics', 'Art and Information Theory', 'Art and Semiology',\n",
        "    'Art and Linguistics', 'Art and Language', 'Art and Semiotics', 'Art and Hermeneutics', 'Art and Phenomenology', 'Art and Deconstruction',\n",
        "    'Art and Poststructuralism', 'Art and Structuralism', 'Art and Postmodernism', 'Art and Modernism', 'Art and the Avant-Garde',\n",
        "    'Art and the Neo-Avant-Garde', 'Art and the New Media', 'Art and the Post-Media Condition', 'Art and Intermediality', 'Art and Remediation',\n",
        "    'Art and Simulation', 'Art and Representation', 'Art and Image', 'Art and Visual Culture', 'Art and Media', 'Art and Film', 'Art and Photography',\n",
        "    'Art and Video', 'Art and Animation', 'Art and Sound', 'Art and Music', 'Art and Performance', 'Art and Dance', 'Art and Theatre',\n",
        "    'Art and Literature', 'Art and Poetry', 'Art and Writing', 'Art and Text', 'Art and Calligraphy', 'Art and Typography', 'Art and Design',\n",
        "    'Art and Architecture', 'Art and Urbanism', 'Art and Landscape', 'Art and Ecology', 'Art and Nature', 'Art and the Environment',\n",
        "    'Art and the Anthropocene', 'Art and Geology', 'Art and Geography', 'Art and Cartography', 'Art and Mapping', 'Art and Topography',\n",
        "    'Art and Navigation', 'Art and Exploration', 'Art and Discovery', 'Art and Adventure', 'Art and Travel', 'Art and Migration',\n",
        "    'Art and Diaspora', 'Art and Exile', 'Art and Displacement', 'Art and Refugees', 'Art and Asylum Seekers', 'Art and Borders',\n",
        "    'Art and Walls', 'Art and Barriers', 'Art and Fences', 'Art and Gates', 'Art and Locks', 'Art and Keys', 'Art and Doors',\n",
        "    'Art and Windows', 'Art and Mirrors', 'Art and Reflections', 'Art and Shadows', 'Art and Light', 'Art and Darkness',\n",
        "    'Art and Transparency', 'Art and Opacity', 'Art and Clarity', 'Art and Ambiguity', 'Art and Obscurity', 'Art and Mystery',\n",
        "    'Art and Secrets', 'Art and Revelation', 'Art and Disclosure', 'Art and Concealment', 'Art and Disguise', 'Art and Camouflage',\n",
        "    'Art and Deception', 'Art and Ill'\n",
        "\n",
        "]\n",
        "\n",
        "\n",
        "extracted_skills = extract_skills_from_resume(clean_res, skills_list)\n",
        "extracted_skills2 = extract_skills_from_resume(clean_res2, skills_list)\n"
      ]
    },
    {
      "cell_type": "code",
      "execution_count": null,
      "id": "a31ba9d8-10c3-49b1-a92b-1bc7cc503ec3",
      "metadata": {
        "id": "a31ba9d8-10c3-49b1-a92b-1bc7cc503ec3"
      },
      "outputs": [],
      "source": [
        "string=' '.join(extracted_skills)"
      ]
    },
    {
      "cell_type": "code",
      "execution_count": null,
      "id": "b1013fab-75db-4b56-9fec-8976398ab751",
      "metadata": {
        "id": "b1013fab-75db-4b56-9fec-8976398ab751"
      },
      "outputs": [],
      "source": [
        "string2=' '.join(extracted_skills2)"
      ]
    },
    {
      "cell_type": "code",
      "execution_count": null,
      "id": "dcc49e70-b41a-4b8f-91d3-6b50082cb738",
      "metadata": {
        "id": "dcc49e70-b41a-4b8f-91d3-6b50082cb738"
      },
      "outputs": [],
      "source": [
        "content=[string,string2]\n",
        "cv=CountVectorizer()\n",
        "matrix=cv.fit_transform(content)\n",
        "similarity_matrix=cosine_similarity(matrix)\n",
        "print(similarity_matrix)"
      ]
    },
    {
      "cell_type": "code",
      "execution_count": null,
      "id": "fff85b6c-3c26-4dd9-8a1e-93ae7b9fb719",
      "metadata": {
        "id": "fff85b6c-3c26-4dd9-8a1e-93ae7b9fb719"
      },
      "outputs": [],
      "source": [
        "str=extracted_skills[:3]"
      ]
    },
    {
      "cell_type": "code",
      "execution_count": null,
      "id": "d40fafa0-8ab1-45b9-941e-7e77a66db134",
      "metadata": {
        "id": "d40fafa0-8ab1-45b9-941e-7e77a66db134"
      },
      "outputs": [],
      "source": [
        "str"
      ]
    },
    {
      "cell_type": "code",
      "execution_count": null,
      "id": "5335aa8d-cd97-4a48-a800-93bacf62f0dc",
      "metadata": {
        "id": "5335aa8d-cd97-4a48-a800-93bacf62f0dc"
      },
      "outputs": [],
      "source": [
        "extracted_skills2"
      ]
    },
    {
      "cell_type": "code",
      "execution_count": null,
      "id": "f74dc1f2-8fe9-4f8b-b8f4-75095788c776",
      "metadata": {
        "id": "f74dc1f2-8fe9-4f8b-b8f4-75095788c776"
      },
      "outputs": [],
      "source": [
        "extracted_skills"
      ]
    },
    {
      "cell_type": "code",
      "execution_count": null,
      "id": "005d3dd8-1d83-4917-a194-f88bbb78fb9d",
      "metadata": {
        "id": "005d3dd8-1d83-4917-a194-f88bbb78fb9d"
      },
      "outputs": [],
      "source": []
    },
    {
      "cell_type": "code",
      "execution_count": null,
      "id": "dec31231-494c-49da-b847-b07777286b2c",
      "metadata": {
        "id": "dec31231-494c-49da-b847-b07777286b2c"
      },
      "outputs": [],
      "source": []
    }
  ],
  "metadata": {
    "kernelspec": {
      "display_name": "Python 3 (ipykernel)",
      "language": "python",
      "name": "python3"
    },
    "language_info": {
      "codemirror_mode": {
        "name": "ipython",
        "version": 3
      },
      "file_extension": ".py",
      "mimetype": "text/x-python",
      "name": "python",
      "nbconvert_exporter": "python",
      "pygments_lexer": "ipython3",
      "version": "3.12.4"
    },
    "colab": {
      "provenance": [],
      "include_colab_link": true
    }
  },
  "nbformat": 4,
  "nbformat_minor": 5
}